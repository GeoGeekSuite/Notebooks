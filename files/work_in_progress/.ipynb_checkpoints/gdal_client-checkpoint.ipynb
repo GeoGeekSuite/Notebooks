{
 "cells": [
  {
   "cell_type": "code",
   "execution_count": null,
   "id": "28dc3f72-ff8a-40f8-a6e8-10ae39739966",
   "metadata": {},
   "outputs": [],
   "source": []
  },
  {
   "cell_type": "code",
   "execution_count": 5,
   "id": "6753b1f9-1568-4117-b8bf-d7c6221afbf6",
   "metadata": {},
   "outputs": [],
   "source": [
    "class GdalClient:\n",
    "    \n",
    "    def __init__():\n",
    "        \n",
    "        print('GdalClient init')\n",
    "        \n",
    "        "
   ]
  },
  {
   "cell_type": "code",
   "execution_count": null,
   "id": "2cd1eca7-8cc5-4455-8918-b9185eb4f660",
   "metadata": {},
   "outputs": [],
   "source": []
  }
 ],
 "metadata": {
  "kernelspec": {
   "display_name": "Python 3 (ipykernel)",
   "language": "python",
   "name": "python3"
  },
  "language_info": {
   "codemirror_mode": {
    "name": "ipython",
    "version": 3
   },
   "file_extension": ".py",
   "mimetype": "text/x-python",
   "name": "python",
   "nbconvert_exporter": "python",
   "pygments_lexer": "ipython3",
   "version": "3.9.7"
  }
 },
 "nbformat": 4,
 "nbformat_minor": 5
}
