{
 "cells": [
  {
   "cell_type": "code",
   "execution_count": 1,
   "id": "1357ac24-a9ab-49bb-a0e3-2c09312d5c88",
   "metadata": {},
   "outputs": [],
   "source": [
    "from cobra.tools.gdal import GdalJob\n",
    "from cobra.tools.gdal import GdalClient"
   ]
  },
  {
   "cell_type": "code",
   "execution_count": null,
   "id": "bc1ce655-10a6-4b44-a762-de80d2005953",
   "metadata": {},
   "outputs": [],
   "source": [
    "# shape to pg\n",
    "# connection_string = f'host={host} dbname={self.gisdatabase} user={user} password={password}'\n",
    "# arguments =['ogr2ogr','-f','PostgreSQL',f'PG: {connection_string}', '-lco', f'SCHEMA={self.schema}', path_to_shape]"
   ]
  },
  {
   "cell_type": "code",
   "execution_count": 2,
   "id": "afccbcba-eb32-4f35-8963-e6c62128ad8c",
   "metadata": {},
   "outputs": [],
   "source": [
    "job = GdalJob(args = ['ls'], job_type = 'generic')"
   ]
  },
  {
   "cell_type": "code",
   "execution_count": null,
   "id": "d4fdfa1e-a455-4163-b7a7-8e2fbdc58b16",
   "metadata": {},
   "outputs": [],
   "source": [
    "job.__dict__"
   ]
  },
  {
   "cell_type": "code",
   "execution_count": 3,
   "id": "2cd1eca7-8cc5-4455-8918-b9185eb4f660",
   "metadata": {},
   "outputs": [],
   "source": [
    "gc = GdalClient()"
   ]
  },
  {
   "cell_type": "code",
   "execution_count": null,
   "id": "46ea5c4d-2a1e-427e-9cfc-b42dcbaff00c",
   "metadata": {},
   "outputs": [],
   "source": []
  },
  {
   "cell_type": "code",
   "execution_count": 4,
   "id": "a76f9ee5-e3f7-4867-93c7-3fcdc632688b",
   "metadata": {},
   "outputs": [
    {
     "name": "stdout",
     "output_type": "stream",
     "text": [
      "{'@timestamp': '2022-11-01T10:27:13.721642', 'pod': 'jupyter-55fdbb4c96-vplft', 'class': 'GdalClient', 'type': 'DEBUG', 'message': 'send'}\n"
     ]
    }
   ],
   "source": [
    "gc._send_message(job)"
   ]
  },
  {
   "cell_type": "code",
   "execution_count": null,
   "id": "d86ab7ea-45b9-4487-8a05-f3267460c5cc",
   "metadata": {},
   "outputs": [],
   "source": []
  }
 ],
 "metadata": {
  "kernelspec": {
   "display_name": "Python 3 (ipykernel)",
   "language": "python",
   "name": "python3"
  },
  "language_info": {
   "codemirror_mode": {
    "name": "ipython",
    "version": 3
   },
   "file_extension": ".py",
   "mimetype": "text/x-python",
   "name": "python",
   "nbconvert_exporter": "python",
   "pygments_lexer": "ipython3",
   "version": "3.9.7"
  }
 },
 "nbformat": 4,
 "nbformat_minor": 5
}
