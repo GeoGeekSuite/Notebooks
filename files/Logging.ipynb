{
 "cells": [
  {
   "cell_type": "code",
   "execution_count": 1,
   "id": "b0a9a4ef-199f-4fd8-8153-981401ddd1ff",
   "metadata": {},
   "outputs": [],
   "source": [
    "from cobra.helper.logging import Logger"
   ]
  },
  {
   "cell_type": "code",
   "execution_count": 2,
   "id": "af0a4465-afdf-4e02-8761-a3118ad4277c",
   "metadata": {},
   "outputs": [],
   "source": [
    "l = Logger('Jupyter')"
   ]
  },
  {
   "cell_type": "code",
   "execution_count": 3,
   "id": "ce186d60-ed0e-4716-b555-a9c38020e0d1",
   "metadata": {},
   "outputs": [
    {
     "name": "stdout",
     "output_type": "stream",
     "text": [
      "{'@timestamp': '2022-10-30T22:02:42.145896', 'pod': 'jupyter-55fdbb4c96-j9b7f', 'class': 'Jupyter', 'type': 'INFO', 'message': 'Test'}\n"
     ]
    }
   ],
   "source": [
    "l.info('Test')"
   ]
  },
  {
   "cell_type": "code",
   "execution_count": null,
   "id": "322be3ec-f496-49e6-b90b-775cbab50397",
   "metadata": {},
   "outputs": [],
   "source": []
  }
 ],
 "metadata": {
  "kernelspec": {
   "display_name": "Python 3 (ipykernel)",
   "language": "python",
   "name": "python3"
  },
  "language_info": {
   "codemirror_mode": {
    "name": "ipython",
    "version": 3
   },
   "file_extension": ".py",
   "mimetype": "text/x-python",
   "name": "python",
   "nbconvert_exporter": "python",
   "pygments_lexer": "ipython3",
   "version": "3.9.7"
  }
 },
 "nbformat": 4,
 "nbformat_minor": 5
}
