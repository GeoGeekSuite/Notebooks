{
 "cells": [
  {
   "cell_type": "markdown",
   "id": "fb138df3-d37f-4137-ad0c-532330c9e4be",
   "metadata": {},
   "source": [
    "# Hell World"
   ]
  },
  {
   "cell_type": "code",
   "execution_count": 1,
   "id": "0e587582-0f68-4178-b68e-6e3fa507c98d",
   "metadata": {},
   "outputs": [
    {
     "name": "stdout",
     "output_type": "stream",
     "text": [
      "Hello World\n"
     ]
    }
   ],
   "source": [
    "print('Hello World')"
   ]
  },
  {
   "cell_type": "code",
   "execution_count": null,
   "id": "aad6cce0-90e5-4501-8f8c-06758cadf0a1",
   "metadata": {},
   "outputs": [],
   "source": []
  }
 ],
 "metadata": {
  "kernelspec": {
   "display_name": "Python 3 (ipykernel)",
   "language": "python",
   "name": "python3"
  },
  "language_info": {
   "codemirror_mode": {
    "name": "ipython",
    "version": 3
   },
   "file_extension": ".py",
   "mimetype": "text/x-python",
   "name": "python",
   "nbconvert_exporter": "python",
   "pygments_lexer": "ipython3",
   "version": "3.9.7"
  }
 },
 "nbformat": 4,
 "nbformat_minor": 5
}
