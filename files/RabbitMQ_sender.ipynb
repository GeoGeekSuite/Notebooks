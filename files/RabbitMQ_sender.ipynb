{
 "cells": [
  {
   "cell_type": "markdown",
   "id": "b054901e-634a-4296-a609-b4890ddf2dc2",
   "metadata": {},
   "source": [
    "# RabbitMQ receiver\n",
    "\n",
    "Simple notebook to test RabbitMQ base functionality. This notebook will send a test message to the 'hello'queue.\n",
    "Use RabbitMQ_Receiver.ipynb to check if message was received."
   ]
  },
  {
   "cell_type": "code",
   "execution_count": 1,
   "id": "29b81820-6bd9-4bcc-a331-cc73a269f226",
   "metadata": {},
   "outputs": [],
   "source": [
    "import pika"
   ]
  },
  {
   "cell_type": "markdown",
   "id": "7d627c0c-05c5-46b6-ab51-b8fedcfc1ae0",
   "metadata": {},
   "source": [
    "## Send a message"
   ]
  },
  {
   "cell_type": "code",
   "execution_count": 2,
   "id": "2b0f9665-aa9c-4894-bf78-691377b8a0bb",
   "metadata": {},
   "outputs": [],
   "source": [
    "# Establish a connection\n",
    "connection = pika.BlockingConnection(pika.ConnectionParameters('rabbitmq'))\n",
    "channel = connection.channel()"
   ]
  },
  {
   "cell_type": "code",
   "execution_count": 3,
   "id": "322d79ae-72e6-443b-8c5d-5d67e2b0d178",
   "metadata": {},
   "outputs": [
    {
     "data": {
      "text/plain": [
       "<METHOD(['channel_number=1', 'frame_type=1', \"method=<Queue.DeclareOk(['consumer_count=1', 'message_count=0', 'queue=hello'])>\"])>"
      ]
     },
     "execution_count": 3,
     "metadata": {},
     "output_type": "execute_result"
    }
   ],
   "source": [
    "# Create a queue\n",
    "channel.queue_declare(queue='hello')"
   ]
  },
  {
   "cell_type": "code",
   "execution_count": 4,
   "id": "760f4e21-b80c-4d58-8c5f-f61e2365b980",
   "metadata": {},
   "outputs": [
    {
     "name": "stdout",
     "output_type": "stream",
     "text": [
      " [x] Sent 'Hello World!'\n"
     ]
    }
   ],
   "source": [
    "# Send a message\n",
    "channel.basic_publish(exchange='',\n",
    "                      routing_key='hello',\n",
    "                      body='Hello World!')\n",
    "print(\" [x] Sent 'Hello World!'\")"
   ]
  },
  {
   "cell_type": "code",
   "execution_count": 5,
   "id": "6dcf6073-1e5d-4e7a-9178-a0eb84a2c405",
   "metadata": {},
   "outputs": [],
   "source": [
    "# Close connection\n",
    "connection.close()"
   ]
  },
  {
   "cell_type": "code",
   "execution_count": null,
   "id": "c8b9560e-4d19-400b-8fba-7e673108a958",
   "metadata": {},
   "outputs": [],
   "source": []
  }
 ],
 "metadata": {
  "kernelspec": {
   "display_name": "Python 3 (ipykernel)",
   "language": "python",
   "name": "python3"
  },
  "language_info": {
   "codemirror_mode": {
    "name": "ipython",
    "version": 3
   },
   "file_extension": ".py",
   "mimetype": "text/x-python",
   "name": "python",
   "nbconvert_exporter": "python",
   "pygments_lexer": "ipython3",
   "version": "3.9.7"
  }
 },
 "nbformat": 4,
 "nbformat_minor": 5
}
