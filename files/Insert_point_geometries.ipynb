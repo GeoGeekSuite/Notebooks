{
 "cells": [
  {
   "cell_type": "markdown",
   "id": "ae061eef-c635-4d30-8e81-81cd3e5efb32",
   "metadata": {},
   "source": [
    "# Load point-geometries of European capitals into PostGIS"
   ]
  },
  {
   "cell_type": "markdown",
   "id": "94e88462-0e5b-441c-b883-fef984bf42e9",
   "metadata": {},
   "source": [
    "This is a simplified example. Coordinates are extracted form GeoJSON, even if there are other ways to load this more efficient into PostGIS."
   ]
  },
  {
   "cell_type": "code",
   "execution_count": 1,
   "id": "18390555-325c-440c-b2e9-d88c5015743d",
   "metadata": {},
   "outputs": [],
   "source": [
    "import json\n",
    "import os\n",
    "import psycopg2\n",
    "import requests"
   ]
  },
  {
   "cell_type": "code",
   "execution_count": 2,
   "id": "069f36f4-0d85-4adc-b09a-f5103360424a",
   "metadata": {},
   "outputs": [],
   "source": [
    "# Download json file with coordinates of European capitals\n",
    "url = 'https://raw.githubusercontent.com/Ginden/capitals/master/europe.json'\n",
    "r = requests.get(url)\n",
    "\n",
    "with open('/download/europe.json', 'wb') as f:\n",
    "    f.write(r.content)"
   ]
  },
  {
   "cell_type": "code",
   "execution_count": 3,
   "id": "482ccc58-0e17-495d-a1a3-49d665caabc1",
   "metadata": {},
   "outputs": [],
   "source": [
    "host = os.environ['PGHOST']\n",
    "database = os.environ['PGDATABASE']\n",
    "user = os.environ['PGUSER']\n",
    "password = os.environ['PGPASSWORD']"
   ]
  },
  {
   "cell_type": "code",
   "execution_count": 4,
   "id": "4fbb8456-2cdd-4e4a-9843-e8e02c52d13e",
   "metadata": {},
   "outputs": [],
   "source": [
    "connection_string = f'host={host} dbname={database} user={user} password={password}'"
   ]
  },
  {
   "cell_type": "code",
   "execution_count": 5,
   "id": "be918fff-aeeb-4fe5-bcf9-4ed55ba98553",
   "metadata": {},
   "outputs": [],
   "source": [
    "# Helper function to execute simple SQL statements\n",
    "\n",
    "def execute_simple_sql(sql, fetch='None'):\n",
    "    with psycopg2.connect(connection_string) as conn:\n",
    "        with conn.cursor() as curs:\n",
    "            if fetch=='None':\n",
    "                curs.execute(sql)\n",
    "            elif fetch=='One':\n",
    "                curs.execute(sql)\n",
    "                result = curs.fetchone();\n",
    "                return result"
   ]
  },
  {
   "cell_type": "code",
   "execution_count": 6,
   "id": "0a4576d4-5106-44cb-a89e-758250e4e7f2",
   "metadata": {},
   "outputs": [],
   "source": [
    "# Create PostGIS extenstion\n",
    "\n",
    "sql = 'CREATE EXTENSION IF NOT EXISTS postgis'\n",
    "execute_simple_sql(sql)"
   ]
  },
  {
   "cell_type": "code",
   "execution_count": 7,
   "id": "bb062d0e-096f-4611-b49f-3d4ec63e4bdd",
   "metadata": {},
   "outputs": [],
   "source": [
    "# Create Postgres table\n",
    "\n",
    "sql='CREATE TABLE IF NOT EXISTS capitals(gid serial PRIMARY KEY, name TEXT, point geography(POINT,4326) );'\n",
    "execute_simple_sql(sql)"
   ]
  },
  {
   "cell_type": "code",
   "execution_count": 8,
   "id": "620a284c-3e0e-44f3-b029-bc405c03b1d2",
   "metadata": {},
   "outputs": [],
   "source": [
    "# Loop over capitals in json file and insert point by point\n",
    "# (Please do not use the following function in a loop over a larger dataset)\n",
    "\n",
    "with open('/download/europe.json') as f:\n",
    "    data = json.load(f)\n",
    "    for a_capital in data:\n",
    "        capital_name = a_capital['properties']['capital']\n",
    "        lon = a_capital['geometry']['coordinates'][0]\n",
    "        lat = a_capital['geometry']['coordinates'][1]\n",
    "        sql = f\"INSERT INTO capitals (name, point) VALUES ('{capital_name}', 'SRID=4326;POINT({lon} {lat})');\"\n",
    "        execute_simple_sql(sql)"
   ]
  },
  {
   "cell_type": "markdown",
   "id": "eec1d2a4-d612-4354-919e-b95a97e91a05",
   "metadata": {},
   "source": [
    "Check the results in PgAdmin\n",
    "\n",
    "![Screenshot of PgAdmin](./images/Capitals_in_PgAdmin.png)"
   ]
  }
 ],
 "metadata": {
  "kernelspec": {
   "display_name": "Python 3 (ipykernel)",
   "language": "python",
   "name": "python3"
  },
  "language_info": {
   "codemirror_mode": {
    "name": "ipython",
    "version": 3
   },
   "file_extension": ".py",
   "mimetype": "text/x-python",
   "name": "python",
   "nbconvert_exporter": "python",
   "pygments_lexer": "ipython3",
   "version": "3.9.7"
  }
 },
 "nbformat": 4,
 "nbformat_minor": 5
}
