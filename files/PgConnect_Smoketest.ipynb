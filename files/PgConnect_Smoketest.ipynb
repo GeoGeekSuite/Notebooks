{
 "cells": [
  {
   "cell_type": "markdown",
   "id": "2b343cce-0903-47f9-8dac-682c5fbba146",
   "metadata": {},
   "source": [
    "# Postgres / PostGIS connection\n"
   ]
  },
  {
   "cell_type": "markdown",
   "id": "12c2e04b-efad-4377-858f-3f45917398ab",
   "metadata": {},
   "source": [
    "Kubernetes configmaps and secrets contain all parameters required to connect to the Postgres database.\n",
    "They are mapped to environment variables in the Jupyter notebook pod.\n",
    "\n",
    "Here a simple example how to use them to establish a connection."
   ]
  },
  {
   "cell_type": "code",
   "execution_count": 1,
   "id": "71cd85f4-3cf5-4225-a5de-3af7864ab968",
   "metadata": {},
   "outputs": [],
   "source": [
    "import psycopg2\n",
    "import os"
   ]
  },
  {
   "cell_type": "code",
   "execution_count": 2,
   "id": "e8f71a7a-9185-4718-906d-725c70247a62",
   "metadata": {},
   "outputs": [],
   "source": [
    "host = os.environ['PGHOST']\n",
    "database = os.environ['PGDATABASE']\n",
    "user = os.environ['PGUSER']\n",
    "password = os.environ['PGPASSWORD']"
   ]
  },
  {
   "cell_type": "code",
   "execution_count": 3,
   "id": "a4e66c6a-02a2-4c30-9aa4-0ef10bec3f7b",
   "metadata": {},
   "outputs": [],
   "source": [
    "connection_string = f'host={host} dbname={database} user={user} password={password}'"
   ]
  },
  {
   "cell_type": "code",
   "execution_count": 4,
   "id": "82032ff6-9049-41bd-8522-42cdabc9886a",
   "metadata": {},
   "outputs": [
    {
     "name": "stdout",
     "output_type": "stream",
     "text": [
      "('PostgreSQL 14.5 (Debian 14.5-1.pgdg110+1) on x86_64-pc-linux-gnu, compiled by gcc (Debian 10.2.1-6) 10.2.1 20210110, 64-bit',)\n"
     ]
    }
   ],
   "source": [
    "with psycopg2.connect(connection_string) as conn:\n",
    "    with conn.cursor() as curs:\n",
    "        curs.execute('SELECT version();')\n",
    "        result = curs.fetchone();\n",
    "        print(result)"
   ]
  }
 ],
 "metadata": {
  "kernelspec": {
   "display_name": "Python 3 (ipykernel)",
   "language": "python",
   "name": "python3"
  },
  "language_info": {
   "codemirror_mode": {
    "name": "ipython",
    "version": 3
   },
   "file_extension": ".py",
   "mimetype": "text/x-python",
   "name": "python",
   "nbconvert_exporter": "python",
   "pygments_lexer": "ipython3",
   "version": "3.9.7"
  }
 },
 "nbformat": 4,
 "nbformat_minor": 5
}
