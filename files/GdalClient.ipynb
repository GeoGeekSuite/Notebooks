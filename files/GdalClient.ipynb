{
 "cells": [
  {
   "cell_type": "code",
   "execution_count": null,
   "id": "1357ac24-a9ab-49bb-a0e3-2c09312d5c88",
   "metadata": {},
   "outputs": [],
   "source": [
    "from cobra.tools.gdal import GdalJob, ImportJob\n",
    "from cobra.tools.gdal import GdalClient"
   ]
  },
  {
   "cell_type": "markdown",
   "id": "d686b47d-d39c-49fa-8e55-8d722874d829",
   "metadata": {},
   "source": [
    "# Generic job"
   ]
  },
  {
   "cell_type": "code",
   "execution_count": null,
   "id": "afccbcba-eb32-4f35-8963-e6c62128ad8c",
   "metadata": {},
   "outputs": [],
   "source": [
    "job = GdalJob(args = ['ls'], job_type = 'generic')"
   ]
  },
  {
   "cell_type": "code",
   "execution_count": null,
   "id": "2cd1eca7-8cc5-4455-8918-b9185eb4f660",
   "metadata": {},
   "outputs": [],
   "source": [
    "gc = GdalClient()"
   ]
  },
  {
   "cell_type": "code",
   "execution_count": null,
   "id": "a76f9ee5-e3f7-4867-93c7-3fcdc632688b",
   "metadata": {},
   "outputs": [],
   "source": [
    "gc._send_message(job)"
   ]
  },
  {
   "cell_type": "markdown",
   "id": "bc210b53-5c6a-4bef-bc52-38a92ac3bd61",
   "metadata": {},
   "source": [
    "# Load shape"
   ]
  },
  {
   "cell_type": "code",
   "execution_count": null,
   "id": "0721d869-6a6e-4660-af56-c8a0679da565",
   "metadata": {},
   "outputs": [],
   "source": [
    "import urllib.request"
   ]
  },
  {
   "cell_type": "code",
   "execution_count": null,
   "id": "8e5a2bc9-6bdf-47f2-a261-5d537a1761d5",
   "metadata": {},
   "outputs": [],
   "source": [
    "# Download zipped shape\n",
    "url = 'http://download.geofabrik.de/europe/portugal-latest-free.shp.zip'\n",
    "urllib.request.urlretrieve(url, '/download/pt.zip')"
   ]
  },
  {
   "cell_type": "code",
   "execution_count": null,
   "id": "9d9e8656-11ad-49c9-8bf9-32e0c226d974",
   "metadata": {},
   "outputs": [],
   "source": [
    "import zipfile\n",
    "with zipfile.ZipFile(\"/download/pt.zip\",\"r\") as zip_ref:\n",
    "    zip_ref.extractall(\"/download\")"
   ]
  },
  {
   "cell_type": "code",
   "execution_count": null,
   "id": "7474df84-feea-43c0-8343-ab998376c2da",
   "metadata": {},
   "outputs": [],
   "source": [
    "shape_to_load = '/download/gis_osm_landuse_a_free_1.shp'"
   ]
  },
  {
   "cell_type": "code",
   "execution_count": null,
   "id": "f476e3ba-5653-4343-a042-17be56dc8e92",
   "metadata": {},
   "outputs": [],
   "source": [
    "job = ImportJob(args = [], path_to_file = shape_to_load)"
   ]
  },
  {
   "cell_type": "code",
   "execution_count": null,
   "id": "b55fb91e-829e-4718-ad04-75c8f52ab013",
   "metadata": {},
   "outputs": [],
   "source": [
    "gc._send_message(job)"
   ]
  },
  {
   "cell_type": "code",
   "execution_count": null,
   "id": "0bf71130-d05d-4c4a-af07-229ee931d63f",
   "metadata": {},
   "outputs": [],
   "source": []
  }
 ],
 "metadata": {
  "kernelspec": {
   "display_name": "Python 3 (ipykernel)",
   "language": "python",
   "name": "python3"
  },
  "language_info": {
   "codemirror_mode": {
    "name": "ipython",
    "version": 3
   },
   "file_extension": ".py",
   "mimetype": "text/x-python",
   "name": "python",
   "nbconvert_exporter": "python",
   "pygments_lexer": "ipython3",
   "version": "3.9.7"
  }
 },
 "nbformat": 4,
 "nbformat_minor": 5
}
