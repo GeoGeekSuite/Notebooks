{
 "cells": [
  {
   "cell_type": "markdown",
   "id": "e5bb13d0-b78f-47f9-a359-ebb5dee4444e",
   "metadata": {},
   "source": [
    "# RabbitMQ receiver\n",
    "\n",
    "Simple test of RabbitMQ. This notebook will just listen and print out messages on the 'hello' queue.\n",
    "Use RabbitMQ_sender.ipynb to send messages"
   ]
  },
  {
   "cell_type": "code",
   "execution_count": 1,
   "id": "5867b87c-9511-45a1-beb6-d4e80402edb4",
   "metadata": {},
   "outputs": [],
   "source": [
    "import pika, sys, os"
   ]
  },
  {
   "cell_type": "code",
   "execution_count": 2,
   "id": "0e6c3ba6-f2c2-4c6f-9b39-4e4d8868e2d2",
   "metadata": {},
   "outputs": [],
   "source": [
    "def main():\n",
    "    connection = pika.BlockingConnection(pika.ConnectionParameters(host='rabbitmq'))\n",
    "    channel = connection.channel()\n",
    "\n",
    "    channel.queue_declare(queue='hello')\n",
    "\n",
    "    def callback(ch, method, properties, body):\n",
    "        print(\" [x] Received %r\" % body)\n",
    "\n",
    "    channel.basic_consume(queue='hello', on_message_callback=callback, auto_ack=True)\n",
    "\n",
    "    print(' [*] Waiting for messages. To exit press CTRL+C')\n",
    "    channel.start_consuming()"
   ]
  },
  {
   "cell_type": "code",
   "execution_count": null,
   "id": "a9b573a2-0996-4ab9-a084-9a9f13db93f6",
   "metadata": {},
   "outputs": [
    {
     "name": "stdout",
     "output_type": "stream",
     "text": [
      " [*] Waiting for messages. To exit press CTRL+C\n",
      " [x] Received b'Hello World!'\n"
     ]
    }
   ],
   "source": [
    "main()"
   ]
  },
  {
   "cell_type": "code",
   "execution_count": null,
   "id": "73db06b4-fa8f-4d94-a887-1122debafbe5",
   "metadata": {},
   "outputs": [],
   "source": []
  }
 ],
 "metadata": {
  "kernelspec": {
   "display_name": "Python 3 (ipykernel)",
   "language": "python",
   "name": "python3"
  },
  "language_info": {
   "codemirror_mode": {
    "name": "ipython",
    "version": 3
   },
   "file_extension": ".py",
   "mimetype": "text/x-python",
   "name": "python",
   "nbconvert_exporter": "python",
   "pygments_lexer": "ipython3",
   "version": "3.9.7"
  }
 },
 "nbformat": 4,
 "nbformat_minor": 5
}
